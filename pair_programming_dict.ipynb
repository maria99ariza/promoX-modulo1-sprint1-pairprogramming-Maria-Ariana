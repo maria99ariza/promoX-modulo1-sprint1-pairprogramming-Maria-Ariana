{
 "cells": [
  {
   "cell_type": "code",
   "execution_count": 4,
   "metadata": {},
   "outputs": [],
   "source": [
    "#Pair programming Diccionarios y Sets\n",
    "\n"
   ]
  },
  {
   "cell_type": "code",
   "execution_count": 5,
   "metadata": {},
   "outputs": [
    {
     "data": {
      "text/plain": [
       "dict"
      ]
     },
     "execution_count": 5,
     "metadata": {},
     "output_type": "execute_result"
    }
   ],
   "source": [
    "#1. Crear un diccionario vacío\n",
    "\n",
    "diccionario = {}\n",
    "type(diccionario)"
   ]
  },
  {
   "cell_type": "code",
   "execution_count": 6,
   "metadata": {},
   "outputs": [
    {
     "data": {
      "text/plain": [
       "{'Madrid': 26, 'Barcelona': 28, 'Malaga': 30, 'Valencia': 24, 'Granada': 32}"
      ]
     },
     "execution_count": 6,
     "metadata": {},
     "output_type": "execute_result"
    }
   ],
   "source": [
    "#2 - Crear un diccionario con elementos\n",
    "\n",
    "dicc_elementos = {'Madrid' : 26, 'Barcelona' : 28, \"Malaga\" : 30, 'Valencia' : 24, \"Granada\" : 32}\n",
    "dicc_elementos"
   ]
  },
  {
   "cell_type": "code",
   "execution_count": 25,
   "metadata": {},
   "outputs": [
    {
     "name": "stdout",
     "output_type": "stream",
     "text": [
      "Donde vives?\n",
      "En Madrid hace: 18 grados\n"
     ]
    }
   ],
   "source": [
    "#3 - Acceder al valor de una clave en un diccionario\n",
    "\n",
    "print('Donde vives?')\n",
    "ciudad = input()\n",
    "print('En', ciudad, 'hace:', dicc_elementos[ciudad], 'grados')\n"
   ]
  },
  {
   "cell_type": "code",
   "execution_count": 35,
   "metadata": {},
   "outputs": [
    {
     "data": {
      "text/plain": [
       "{'Madrid': 18,\n",
       " 'Barcelona': 28,\n",
       " 'Malaga': 30,\n",
       " 'Valencia': 24,\n",
       " 'Granada': 32,\n",
       " 'Cadiz': 33}"
      ]
     },
     "execution_count": 35,
     "metadata": {},
     "output_type": "execute_result"
    }
   ],
   "source": [
    "#4 Agregar un nuevo par clave-valor a un diccionario\n",
    "\n",
    "nueva_ciudad = {'Cadiz' : 33}\n",
    "dicc_elementos.update(nueva_ciudad)\n",
    "dicc_elementos\n",
    "\n",
    "\n"
   ]
  },
  {
   "cell_type": "code",
   "execution_count": 24,
   "metadata": {},
   "outputs": [
    {
     "data": {
      "text/plain": [
       "{'Madrid': 18,\n",
       " 'Barcelona': 28,\n",
       " 'Malaga': 30,\n",
       " 'Valencia': 24,\n",
       " 'Granada': 32,\n",
       " 'Cadiz': 33}"
      ]
     },
     "execution_count": 24,
     "metadata": {},
     "output_type": "execute_result"
    }
   ],
   "source": [
    "#Actualizar el valor de una clave en un diccionario\n",
    "\n",
    "dicc_elementos['Madrid'] = 18\n",
    "dicc_elementos"
   ]
  },
  {
   "cell_type": "code",
   "execution_count": 26,
   "metadata": {},
   "outputs": [
    {
     "name": "stdout",
     "output_type": "stream",
     "text": [
      "Qué ciudad quieres eliminar?\n"
     ]
    },
    {
     "data": {
      "text/plain": [
       "33"
      ]
     },
     "execution_count": 26,
     "metadata": {},
     "output_type": "execute_result"
    }
   ],
   "source": [
    "#Eliminar un par clave-valor de un diccionario\n",
    "\n",
    "print('Qué ciudad quieres eliminar?')\n",
    "ciudad = input()\n",
    "dicc_elementos.pop(ciudad)"
   ]
  },
  {
   "cell_type": "code",
   "execution_count": 27,
   "metadata": {},
   "outputs": [
    {
     "data": {
      "text/plain": [
       "{'Madrid': 18, 'Barcelona': 28, 'Malaga': 30, 'Valencia': 24, 'Granada': 32}"
      ]
     },
     "execution_count": 27,
     "metadata": {},
     "output_type": "execute_result"
    }
   ],
   "source": [
    "dicc_elementos"
   ]
  },
  {
   "cell_type": "code",
   "execution_count": 30,
   "metadata": {},
   "outputs": [
    {
     "name": "stdout",
     "output_type": "stream",
     "text": [
      "Introduce una ciudad\n",
      "False\n"
     ]
    }
   ],
   "source": [
    "#7 Verificar si una clave está presente en un diccionario\n",
    "\n",
    "print('Introduce una ciudad')\n",
    "ciudad = input()\n",
    "print(ciudad in dicc_elementos.keys())"
   ]
  },
  {
   "cell_type": "code",
   "execution_count": 32,
   "metadata": {},
   "outputs": [
    {
     "data": {
      "text/plain": [
       "['Madrid', 'Barcelona', 'Malaga', 'Valencia', 'Granada']"
      ]
     },
     "execution_count": 32,
     "metadata": {},
     "output_type": "execute_result"
    }
   ],
   "source": [
    "#8 Obtener una lista de todas las claves de un diccionario\n",
    "\n",
    "list(dicc_elementos.keys())"
   ]
  },
  {
   "cell_type": "code",
   "execution_count": 33,
   "metadata": {},
   "outputs": [
    {
     "data": {
      "text/plain": [
       "[18, 28, 30, 24, 32]"
      ]
     },
     "execution_count": 33,
     "metadata": {},
     "output_type": "execute_result"
    }
   ],
   "source": [
    "#9 Obtener una lista de todos los valores de un diccionario\n",
    "\n",
    "list(dicc_elementos.values())"
   ]
  },
  {
   "cell_type": "code",
   "execution_count": 53,
   "metadata": {},
   "outputs": [
    {
     "data": {
      "text/plain": [
       "{'Madrid': 18,\n",
       " 'Barcelona': 28,\n",
       " 'Malaga': 30,\n",
       " 'Valencia': 24,\n",
       " 'Granada': 32,\n",
       " 'Cadiz': 33,\n",
       " 'Mallorca': None,\n",
       " 'Sevilla': 44,\n",
       " 'Bilbao': None}"
      ]
     },
     "execution_count": 53,
     "metadata": {},
     "output_type": "execute_result"
    }
   ],
   "source": [
    "#10 Utilizar el método setdefault() para establecer un valor predeterminado si la clave no existe\n",
    "\n",
    "\n",
    "dicc_elementos.setdefault('Bilbao')\n",
    "\n",
    "dicc_elementos"
   ]
  },
  {
   "cell_type": "code",
   "execution_count": 68,
   "metadata": {},
   "outputs": [
    {
     "data": {
      "text/plain": [
       "{'Madrid': 18,\n",
       " 'Barcelona': 28,\n",
       " 'Malaga': 30,\n",
       " 'Valencia': 24,\n",
       " 'Granada': 32,\n",
       " 'Cadiz': 33,\n",
       " 'Mallorca': None,\n",
       " 'Sevilla': 44,\n",
       " 'Bilbao': None,\n",
       " 'XXX': None}"
      ]
     },
     "execution_count": 68,
     "metadata": {},
     "output_type": "execute_result"
    }
   ],
   "source": [
    "\n",
    "dicc_elementos.get('X', 23)\n",
    "dicc_elementos"
   ]
  },
  {
   "cell_type": "code",
   "execution_count": 1,
   "metadata": {},
   "outputs": [
    {
     "name": "stdout",
     "output_type": "stream",
     "text": [
      "55\n"
     ]
    }
   ],
   "source": [
    "x = 0\n",
    "y = 0\n",
    "while x != 10:\n",
    "    y = x + y + 1\n",
    "    x += 1\n",
    "print(y)\n"
   ]
  },
  {
   "cell_type": "code",
   "execution_count": null,
   "metadata": {},
   "outputs": [],
   "source": [
    "preguntas = {'que es 1' : 'un numero', 'que es rojo' : 'un color'}\n",
    "\n"
   ]
  }
 ],
 "metadata": {
  "kernelspec": {
   "display_name": "Python 3",
   "language": "python",
   "name": "python3"
  },
  "language_info": {
   "codemirror_mode": {
    "name": "ipython",
    "version": 3
   },
   "file_extension": ".py",
   "mimetype": "text/x-python",
   "name": "python",
   "nbconvert_exporter": "python",
   "pygments_lexer": "ipython3",
   "version": "3.11.9"
  }
 },
 "nbformat": 4,
 "nbformat_minor": 2
}
